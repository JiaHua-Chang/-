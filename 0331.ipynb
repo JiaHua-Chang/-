{
  "cells": [
    {
      "cell_type": "markdown",
      "metadata": {
        "id": "view-in-github",
        "colab_type": "text"
      },
      "source": [
        "<a href=\"https://colab.research.google.com/github/JiaHua-Chang/-/blob/main/0331.ipynb\" target=\"_parent\"><img src=\"https://colab.research.google.com/assets/colab-badge.svg\" alt=\"Open In Colab\"/></a>"
      ]
    },
    {
      "cell_type": "code",
      "execution_count": null,
      "metadata": {
        "id": "71jfrZf67hfx",
        "colab": {
          "base_uri": "https://localhost:8080/"
        },
        "outputId": "4d102370-2e02-45ac-b8fc-d05cf4f742f1"
      },
      "outputs": [
        {
          "output_type": "stream",
          "name": "stdout",
          "text": [
            "a,b相加的值為11\n",
            "8\n"
          ]
        }
      ],
      "source": [
        "A=5\n",
        "B=6\n",
        "X=A+B\n",
        "print(\"a,b相加的值為{}\".format(X))\n",
        "\n",
        "AA=3\n",
        "BB=5\n",
        "XX=AA+BB\n",
        "print(XX)\n"
      ]
    },
    {
      "cell_type": "code",
      "execution_count": null,
      "metadata": {
        "id": "V7AcbeNvOeJf",
        "colab": {
          "base_uri": "https://localhost:8080/"
        },
        "outputId": "432a9347-5111-42d7-da19-3bcd154a1fd7"
      },
      "outputs": [
        {
          "output_type": "stream",
          "name": "stdout",
          "text": [
            "總分:48 \n",
            "平均:16.0\n"
          ]
        }
      ],
      "source": [
        "\n",
        "a=10\n",
        "b=29\n",
        "c=9\n",
        "sum=a+b+c\n",
        "avg=sum/3\n",
        "print(\"總分:{} \\n平均:{}\".format(sum,avg))"
      ]
    },
    {
      "cell_type": "code",
      "execution_count": null,
      "metadata": {
        "id": "7ceRwwnJQg8M",
        "colab": {
          "base_uri": "https://localhost:8080/"
        },
        "outputId": "8d52a96e-5c73-4b91-c34f-7eec877054bd"
      },
      "outputs": [
        {
          "output_type": "stream",
          "name": "stdout",
          "text": [
            "請輸入數值6\n",
            "請輸入數值38\n",
            "44\n"
          ]
        }
      ],
      "source": [
        "a=int(input(\"請輸入數值\"))\n",
        "b=int(input(\"請輸入數值\"))\n",
        "print(a+b)"
      ]
    },
    {
      "cell_type": "code",
      "execution_count": null,
      "metadata": {
        "colab": {
          "base_uri": "https://localhost:8080/"
        },
        "id": "ziJtVZKQUpse",
        "outputId": "63fb6aad-9689-4c2a-93bc-7545e5b2422b"
      },
      "outputs": [
        {
          "output_type": "stream",
          "name": "stdout",
          "text": [
            "請輸入數值92\n",
            "吃飯\n"
          ]
        }
      ],
      "source": [
        "a=int(input(\"請輸入數值\"))\n",
        "if (a>90):\n",
        "  print(\"吃飯\")\n",
        "else:\n",
        "  print(\"打咚咚\")"
      ]
    },
    {
      "cell_type": "code",
      "execution_count": null,
      "metadata": {
        "id": "2-NWFdLGVKZS",
        "colab": {
          "base_uri": "https://localhost:8080/"
        },
        "outputId": "3bfa011e-0eb1-4a10-e068-9881fa5da81a"
      },
      "outputs": [
        {
          "output_type": "stream",
          "name": "stdout",
          "text": [
            "請輸入數值75\n",
            "C\n"
          ]
        }
      ],
      "source": [
        "##  分數等級\n",
        "\n",
        "a=int(input(\"請輸入數值\"))\n",
        "if (a>=90):\n",
        "  print(\"A\")\n",
        "if (a>=80 and a<90):\n",
        "  print(\"B\")\n",
        "if (a>=70 and a<80):\n",
        "  print(\"C\")\n",
        "if (a>=60 and a<70):\n",
        "  print(\"D\")\n",
        "if (a<60):\n",
        "  print(\"不及格\")"
      ]
    },
    {
      "cell_type": "code",
      "execution_count": null,
      "metadata": {
        "id": "hbpks1wncu5B",
        "colab": {
          "base_uri": "https://localhost:8080/"
        },
        "outputId": "56965656-032e-4bc8-cdc1-9aeb306682bf"
      },
      "outputs": [
        {
          "output_type": "stream",
          "name": "stdout",
          "text": [
            "請輸入數值20\n",
            "請輸入數值39\n",
            "39\n"
          ]
        }
      ],
      "source": [
        "a=int(input(\"請輸入數值\"))\n",
        "b=int(input(\"請輸入數值\"))\n",
        "if(a>b):\n",
        "  print(a)\n",
        "else:\n",
        "  print(b)"
      ]
    },
    {
      "cell_type": "code",
      "execution_count": null,
      "metadata": {
        "id": "FI1gcYwRmnbF"
      },
      "outputs": [],
      "source": [
        "a=int(input(\"請輸入數值\"))\n",
        "b=int(input(\"請輸入數值\"))\n",
        "c=int(input(\"請輸入數值\"))\n",
        "if(a>b and a>c):\n",
        "  print(a)\n",
        "if(b>a and b>c):\n",
        "  print(b)\n",
        "if(c>a and c>b):\n",
        "  print(c)"
      ]
    },
    {
      "cell_type": "code",
      "execution_count": null,
      "metadata": {
        "id": "JPd2yWCNVKPq",
        "colab": {
          "base_uri": "https://localhost:8080/"
        },
        "outputId": "8a987fa6-6d80-463f-a652-9a1838e075d0"
      },
      "outputs": [
        {
          "output_type": "stream",
          "name": "stdout",
          "text": [
            "總和為2500\n"
          ]
        }
      ],
      "source": [
        "sum=0\n",
        "for i in range(1,101,2):\n",
        "  sum=sum+i\n",
        "print(\"總和為{}\".format(sum))"
      ]
    },
    {
      "cell_type": "code",
      "execution_count": null,
      "metadata": {
        "id": "mwJCfejL8sBL",
        "colab": {
          "base_uri": "https://localhost:8080/"
        },
        "outputId": "bd1744ee-16c2-4e86-cef7-590cc8d4348c"
      },
      "outputs": [
        {
          "output_type": "stream",
          "name": "stdout",
          "text": [
            "總和為225\n"
          ]
        }
      ],
      "source": [
        "sum=0\n",
        "for i in range(1,31,2):\n",
        "  sum=sum+i\n",
        "print(\"總和為{}\".format(sum))"
      ]
    },
    {
      "cell_type": "code",
      "execution_count": null,
      "metadata": {
        "id": "k8YPlICzQuK-",
        "colab": {
          "base_uri": "https://localhost:8080/"
        },
        "outputId": "f6de8c0e-9e3c-44bd-a1a9-24c616dfae3b"
      },
      "outputs": [
        {
          "output_type": "stream",
          "name": "stdout",
          "text": [
            "<class 'int'>\n"
          ]
        }
      ],
      "source": [
        "a=0\n",
        "print(type(a))"
      ]
    },
    {
      "cell_type": "code",
      "execution_count": null,
      "metadata": {
        "id": "NbiEfKRrn1So",
        "colab": {
          "base_uri": "https://localhost:8080/"
        },
        "outputId": "a53487e7-1a98-4577-9477-bdcbacb49dd6"
      },
      "outputs": [
        {
          "output_type": "stream",
          "name": "stdout",
          "text": [
            "請輸入密碼: 123\n",
            "密碼正確,進入系統\n"
          ]
        }
      ],
      "source": [
        "password=123\n",
        "for i in range(1,4,1):\n",
        "  inp=int(input(\"請輸入密碼: \"))\n",
        "  if inp==password:\n",
        "   print(\"密碼正確,進入系統\")\n",
        "   break\n",
        "  else:\n",
        "   print(\"密碼錯誤\")\n",
        "\n",
        "\n"
      ]
    },
    {
      "cell_type": "code",
      "execution_count": null,
      "metadata": {
        "id": "D7zF3dpbE6Er"
      },
      "outputs": [],
      "source": [
        "\n",
        "import random ##直到答對才跳出迴圈\n",
        "bigsmall=random.randint(1,100)\n",
        "i=0\n",
        "while True:\n",
        "  i=i+1\n",
        "    ##for i in range(1,10,1):\n",
        "  inp=int(input(\"請輸入值比大小: \"))\n",
        "  if inp==bigsmall:\n",
        "   print(\"你對了啦,(第{}次\".format(i))\n",
        "   break\n",
        "  elif inp>bigsmall:\n",
        "   print(\"你猜太大了啦,第{}次\".format(i))\n",
        "  elif inp<bigsmall:\n",
        "   print(\"你猜太小了啦,第{}次\".format(i))\n"
      ]
    },
    {
      "cell_type": "code",
      "execution_count": null,
      "metadata": {
        "id": "ywixwwQrcIy3"
      },
      "outputs": [],
      "source": [
        "import random\n",
        "bigsmall=random.randint(1,100)\n",
        "i=0\n",
        "while True:\n",
        "  i=i+1\n",
        "    ##for i in range(1,10,1):\n",
        "  inp=int(input(\"請輸入值比大小: \"))\n",
        "  if inp==bigsmall:\n",
        "   print(\"你對了啦,第{}次\".format(i))\n",
        "   break\n",
        "  elif inp>bigsmall:\n",
        "   print(\"你猜太大了啦,第{}次\".format(i))\n",
        "  elif inp<bigsmall:\n",
        "   print(\"你猜太小了啦,第{}次\".format(i))"
      ]
    },
    {
      "cell_type": "code",
      "execution_count": null,
      "metadata": {
        "id": "sYyxhD2yx-wd"
      },
      "outputs": [],
      "source": [
        "##list的應用\n",
        "m=[12,23,34,45,65]\n",
        "for i in range(0,5,1):\n",
        " print(\"第{}值為:{}\".format(i+1,m[i]))"
      ]
    },
    {
      "cell_type": "code",
      "execution_count": null,
      "metadata": {
        "id": "QFaoavth3mSQ"
      },
      "outputs": [],
      "source": [
        "##list的應用加總\n",
        "m=[12,23,34,45,65]\n",
        "sum=0\n",
        "for i in range(0,5,1):\n",
        "  sum=sum+m[i]\n",
        "print(\"加總:{}\".format(sum))"
      ]
    },
    {
      "cell_type": "code",
      "execution_count": null,
      "metadata": {
        "id": "ZtwZBh3h8_5b"
      },
      "outputs": [],
      "source": [
        "##使用者輸入五個數值,加總並秀出,使用陣列\n",
        "a=int(input(\"請輸入數值1:\"))\n",
        "b=int(input(\"請輸入數值2:\"))\n",
        "c=int(input(\"請輸入數值3:\"))\n",
        "d=int(input(\"請輸入數值4:\"))\n",
        "e=int(input(\"請輸入數值5:\"))\n",
        "m=[a,b,c,d,e]\n",
        "sum=0\n",
        "for i in range(0,5,1):\n",
        "  sum=sum+m[i]\n",
        "print(\"加總:{}\".format(sum))"
      ]
    },
    {
      "cell_type": "code",
      "execution_count": null,
      "metadata": {
        "id": "f7xreOK48_ve"
      },
      "outputs": [],
      "source": []
    },
    {
      "cell_type": "code",
      "execution_count": null,
      "metadata": {
        "id": "o7YoVi6tKtEg"
      },
      "outputs": [],
      "source": [
        "##使用者輸入五個數值,加總並秀出\n",
        "list=[]\n",
        "sum=0\n",
        "for i in range(0,5,1):\n",
        "  a=int(input(\"請輸入數值\"))\n",
        "  list.append(a);##依序填入list\n",
        "  sum=sum+a\n",
        "print(sum)"
      ]
    },
    {
      "cell_type": "code",
      "execution_count": null,
      "metadata": {
        "id": "Kt84dzryNvRe"
      },
      "outputs": [],
      "source": [
        "a=['java',\"ggggg\",\"hhhhh\",\"eyyeyye\",\"wwwww\"]\n",
        "a=['java',\"ggggg\",\"hhhhh\",\"eyyeyye\",\"wwwww\"]\n",
        "print(a[0])\n",
        "print(a[0:2])\n",
        "print(a[0])\n",
        "print(a[0:2])"
      ]
    },
    {
      "cell_type": "code",
      "execution_count": null,
      "metadata": {
        "id": "89sJdJ2ze3yc"
      },
      "outputs": [],
      "source": [
        "list=[]  ##直接給一個空的陣列填入值\n",
        "sum=0\n",
        "for i in range(6):\n",
        "  a=int(input(\"輸入數值:\"))\n",
        "  list.append(a)  ##依序填入List\n",
        "  sum=sum+a\n",
        "print(sum)"
      ]
    },
    {
      "cell_type": "code",
      "execution_count": null,
      "metadata": {
        "id": "Apjpf3yWvaK_"
      },
      "outputs": [],
      "source": [
        "dict={'a':1,'b':5,'b':77}\n",
        "print(dict['b'])"
      ]
    },
    {
      "cell_type": "code",
      "execution_count": null,
      "metadata": {
        "id": "X8vrgyQYwU1l"
      },
      "outputs": [],
      "source": [
        "dict={'NAME':'JACK','AGE':100,'SCHOOL':'你好'}\n",
        "dict['AGE']=20\n",
        "dict['big']='雞蛋'\n",
        "print(\"dict['AGE']:\",dict['AGE'])\n",
        "print(dict)\n",
        "print(dict.keys())\n",
        "print(dict.values())\n",
        "print(len(dict))"
      ]
    },
    {
      "cell_type": "code",
      "execution_count": null,
      "metadata": {
        "id": "vq8O3U7H_IxL"
      },
      "outputs": [],
      "source": [
        "a=input(\"請輸入字串:\")\n",
        "print(list(a))\n",
        "print(a)\n",
        "print([a])\n",
        "print(a.spilt())"
      ]
    },
    {
      "cell_type": "code",
      "execution_count": null,
      "metadata": {
        "id": "xnZHy3I5pHn9"
      },
      "outputs": [],
      "source": [
        "##使用套件建立陣列\n",
        "\n",
        "import numpy as nb\n",
        "a=nb.array([12,23,44])  ##一維\n",
        "b=nb.array([[233.3,345.6,566.7,463.5],[111.4,374.7,157.5,666.7]],dtype = float) ##二維資料型態\n",
        "print(a)\n",
        "print(b)\n",
        "print(b.ndim)  ##幾維\n",
        "print(b.shape) ##兩個框框內有4個元素 要成對前後框框需要一樣的數量 兩列四個欄位\n",
        "print(b.size)  ##元素\n",
        "print(len(b))  ##幾個中框框\n",
        "nb.arange(1, 30, 2)\n",
        "##print(nb.arange)"
      ]
    },
    {
      "cell_type": "code",
      "execution_count": null,
      "metadata": {
        "id": "Zh-bu4D51t1t",
        "colab": {
          "base_uri": "https://localhost:8080/"
        },
        "outputId": "47847248-d7a6-4a2a-df5a-0c2ac8a34788"
      },
      "outputs": [
        {
          "output_type": "stream",
          "name": "stdout",
          "text": [
            "[16 92 53]\n",
            "[16. 92. 53.]\n"
          ]
        }
      ],
      "source": [
        "##系統存檔\n",
        "import numpy as nb\n",
        "origial_array=nb.array([16,92,53])\n",
        "nb.save(\"my_array2\",origial_array) ##原始文件\n",
        "nb.savetxt(\"my_array2.txt\",origial_array)##存成txt文件\n",
        "array_from_npy=nb.load(\"my_array2.npy\")##讀取原始文件\n",
        "print(array_from_npy)\n",
        "array_from_txtfile=nb.loadtxt(\"my_array2.txt\")##讀取txt文件\n",
        "print(array_from_txtfile)"
      ]
    },
    {
      "cell_type": "code",
      "execution_count": null,
      "metadata": {
        "id": "5lrZZEvLGHrd",
        "colab": {
          "base_uri": "https://localhost:8080/"
        },
        "outputId": "f32a022b-c183-42bc-8f5c-e46af1cbe99a"
      },
      "outputs": [
        {
          "output_type": "stream",
          "name": "stdout",
          "text": [
            "[[ 0  1  2  3  4]\n",
            " [ 5  6  7  8  9]\n",
            " [14 14 14 14 14]]\n"
          ]
        }
      ],
      "source": [
        "import numpy as nb\n",
        "a=nb.arange(15).reshape(3,5)##0到14分為三列五個欄位\n",
        "a[2]=14\n",
        "print(a)"
      ]
    },
    {
      "cell_type": "code",
      "execution_count": null,
      "metadata": {
        "id": "QzaR0IJPD1mO"
      },
      "outputs": [],
      "source": [
        "import pandas as pd\n",
        "s=pd.Series({\"NAME\":\"JACK\",\"AGE\":28,\"愛吃的東西\":\"雞蛋\"})\n",
        "# s[\"你好\"]=19\n",
        "s[\"愛吃的東西\"]='鴨蛋'\n",
        "print(s)"
      ]
    },
    {
      "cell_type": "code",
      "execution_count": null,
      "metadata": {
        "colab": {
          "base_uri": "https://localhost:8080/"
        },
        "id": "8CBTKJIQ1ckW",
        "outputId": "7a1c06c3-5997-4e1a-8c9a-3337628c81e7"
      },
      "outputs": [
        {
          "output_type": "stream",
          "name": "stdout",
          "text": [
            "[1 8 5 7 9]\n"
          ]
        }
      ],
      "source": [
        "import numpy as nb\n",
        "a=nb.arange(1,10,2)\n",
        "a[1]=8\n",
        "print(a)"
      ]
    },
    {
      "cell_type": "code",
      "execution_count": null,
      "metadata": {
        "id": "3GUp6QDB1cbp"
      },
      "outputs": [],
      "source": [
        "import pandas as pd\n",
        "a=pd.Series([34,12,46,57,54])\n",
        "print(a)\n",
        "a1=pd.Series([34,12,46,57,54], index=['小名','曉華','小賴','你好','老師好'])\n",
        "print(a1[1:4])\n",
        "print(a1[1:3]) ##呼叫從1~2的值\n",
        "print(a1['你好']) ##呼叫你好的分數\n"
      ]
    },
    {
      "cell_type": "code",
      "execution_count": null,
      "metadata": {
        "id": "-8AfFgncSI34",
        "colab": {
          "base_uri": "https://localhost:8080/"
        },
        "outputId": "6d31bb1f-96a5-48d5-f879-bdf5c4bb6ac5"
      },
      "outputs": [
        {
          "output_type": "stream",
          "name": "stdout",
          "text": [
            "  name  math  eng  chi\n",
            "0   小名    12   45   56\n",
            "1   曉華    34   76   67\n",
            "2   小賴    56   88   70\n",
            "3   你好    24   90   85\n",
            "4   老師    75   47   90\n",
            "      name  math  eng  chi\n",
            "one     小名    12   45   56\n",
            "two     曉華    34   76   67\n",
            "three   小賴    56   88   70\n",
            "four    你好    24   90   85\n",
            "five    老師    75   47   90\n",
            "      name  math  eng  chi\n",
            "one     小名    12   45   56\n",
            "two     曉華    34   76   67\n",
            "three   小賴    56   88   70\n",
            "<class 'pandas.core.frame.DataFrame'>\n",
            "RangeIndex: 5 entries, 0 to 4\n",
            "Data columns (total 4 columns):\n",
            " #   Column  Non-Null Count  Dtype \n",
            "---  ------  --------------  ----- \n",
            " 0   name    5 non-null      object\n",
            " 1   math    5 non-null      int64 \n",
            " 2   eng     5 non-null      int64 \n",
            " 3   chi     5 non-null      int64 \n",
            "dtypes: int64(3), object(1)\n",
            "memory usage: 288.0+ bytes\n",
            "222 None\n",
            "印出索引 Index(['one', 'two', 'three', 'four', 'five'], dtype='object')\n",
            "印出欄 Index(['name', 'math', 'eng', 'chi'], dtype='object')\n",
            "    name  math  eng  chi\n",
            "one   小名    12   45   56\n",
            "two   曉華    34   76   67\n",
            "     name  math  eng  chi\n",
            "four   你好    24   90   85\n",
            "five   老師    75   47   90\n"
          ]
        }
      ],
      "source": [
        "import pandas as pd\n",
        "cc={'name':['小名','曉華','小賴','你好','老師'],'math':[12,34,56,24,75],'eng':[45,76,88,90,47],'chi':[56,67,70,85,90]} ##字典\n",
        "cc1=pd.DataFrame(cc)##字典轉換,大小寫要注意\n",
        "print(cc1)\n",
        "cc2=pd.DataFrame(cc,index=['one','two','three','four','five']) ##修改列的名稱\n",
        "print(cc2)\n",
        "cc['小名']=23\n",
        "print(cc2[0:3]) ##不能單獨呼叫名字,只能呼叫name,math\n",
        "print(\"222\",cc1.info())\n",
        "print(\"印出索引\",cc2.index)\n",
        "print(\"印出欄\",cc2.columns)\n",
        "print(cc2.head(2)) ##從頭開始數\n",
        "print(cc2.tail(2)) ##從尾開始數"
      ]
    },
    {
      "cell_type": "code",
      "execution_count": null,
      "metadata": {
        "id": "PTRqDIppeKpt"
      },
      "outputs": [],
      "source": [
        "import pandas as pd\n",
        "a=pd.read_excel('/content/test.xlsx')\n",
        "print(a)"
      ]
    },
    {
      "cell_type": "code",
      "execution_count": null,
      "metadata": {
        "id": "MLKYfwKHWfPM",
        "colab": {
          "base_uri": "https://localhost:8080/"
        },
        "outputId": "103852f5-49ed-4415-fd89-920e366ca1ad"
      },
      "outputs": [
        {
          "output_type": "stream",
          "name": "stdout",
          "text": [
            "int64\n",
            "9\n",
            "-2\n",
            "28\n",
            "-6048\n",
            "5.6\n",
            "-2\n",
            "9\n",
            "Index(['a', 'b', 'c', 'd', 'e'], dtype='object')\n",
            "7\n"
          ]
        },
        {
          "output_type": "stream",
          "name": "stderr",
          "text": [
            "<ipython-input-7-4c66b7869917>:10: FutureWarning: Series.__getitem__ treating keys as positions is deprecated. In a future version, integer keys will always be treated as labels (consistent with DataFrame behavior). To access a value by position, use `ser.iloc[pos]`\n",
            "  print(data[2])\n"
          ]
        }
      ],
      "source": [
        "import pandas as pd ##series數字\n",
        "data=pd.Series([6,7,-2,8,9],index=[\"a\",\"b\",\"c\",\"d\",\"e\"])\n",
        "\n",
        "print(data.dtype)\n",
        "print(data.max())\n",
        "print(data.min())\n",
        "print(data.sum())\n",
        "print(data.prod())\n",
        "print(data.mean())\n",
        "print(data[2])\n",
        "print(data[\"e\"])\n",
        "print(data.index)\n",
        "print(data.iloc[1])"
      ]
    },
    {
      "cell_type": "code",
      "execution_count": null,
      "metadata": {
        "id": "8kaw3pMEZEEI",
        "colab": {
          "base_uri": "https://localhost:8080/"
        },
        "outputId": "778ec41e-9c55-4289-f2f1-d7a6c73c0243"
      },
      "outputs": [
        {
          "output_type": "stream",
          "name": "stdout",
          "text": [
            "0        你好\n",
            "1     hello\n",
            "2    python\n",
            "dtype: object\n",
            "0    2\n",
            "1    5\n",
            "2    6\n",
            "dtype: int64\n",
            "你好--HELLO--PYTHON\n",
            "0    False\n",
            "1     True\n",
            "2    False\n",
            "dtype: bool\n",
            "0        媽媽\n",
            "1     HELLO\n",
            "2    PYTHON\n",
            "dtype: object\n"
          ]
        }
      ],
      "source": [
        "import pandas as pd ##series字串\n",
        "data=pd.Series([\"你好\",\"HELLO\",\"PYTHON\"])\n",
        "print(data.str.lower())##小寫\n",
        "print(data.str.len())##長度\n",
        "print(data.str.cat(sep='--'))##串接\n",
        "print(data.str.contains(\"HELLO\"))##搜尋\n",
        "print(data.str.replace(\"你好\",\"媽媽\"))###取代\n"
      ]
    },
    {
      "cell_type": "code",
      "execution_count": null,
      "metadata": {
        "id": "o7FScUYk8dmp",
        "colab": {
          "base_uri": "https://localhost:8080/"
        },
        "outputId": "2e2d97c3-9493-4d72-b41a-5f5065e22286"
      },
      "outputs": [
        {
          "output_type": "stream",
          "name": "stdout",
          "text": [
            "\r0% [Working]\r            \rGet:1 http://security.ubuntu.com/ubuntu jammy-security InRelease [129 kB]\n",
            "\r0% [Waiting for headers] [1 InRelease 2,588 B/129 kB 2%] [Waiting for headers] [Connected to r2u.sta\r                                                                                                    \rGet:2 https://cloud.r-project.org/bin/linux/ubuntu jammy-cran40/ InRelease [3,626 B]\n",
            "\r0% [Waiting for headers] [1 InRelease 2,588 B/129 kB 2%] [2 InRelease 3,626 B/3,626 B 100%] [Connect\r0% [Waiting for headers] [1 InRelease 25.8 kB/129 kB 20%] [Waiting for headers] [Waiting for headers\r                                                                                                    \rHit:3 https://developer.download.nvidia.com/compute/cuda/repos/ubuntu2204/x86_64  InRelease\n",
            "\r0% [Waiting for headers] [1 InRelease 50.4 kB/129 kB 39%] [Waiting for headers] [Connected to ppa.la\r                                                                                                    \rHit:4 http://archive.ubuntu.com/ubuntu jammy InRelease\n",
            "Get:5 https://r2u.stat.illinois.edu/ubuntu jammy InRelease [6,555 B]\n",
            "Get:6 http://archive.ubuntu.com/ubuntu jammy-updates InRelease [128 kB]\n",
            "Hit:7 https://ppa.launchpadcontent.net/deadsnakes/ppa/ubuntu jammy InRelease\n",
            "Hit:8 https://ppa.launchpadcontent.net/graphics-drivers/ppa/ubuntu jammy InRelease\n",
            "Hit:9 https://ppa.launchpadcontent.net/ubuntugis/ppa/ubuntu jammy InRelease\n",
            "Get:10 http://archive.ubuntu.com/ubuntu jammy-backports InRelease [127 kB]\n",
            "Get:11 http://security.ubuntu.com/ubuntu jammy-security/main amd64 Packages [2,517 kB]\n",
            "Get:12 http://security.ubuntu.com/ubuntu jammy-security/universe amd64 Packages [1,226 kB]\n",
            "Get:13 http://security.ubuntu.com/ubuntu jammy-security/restricted amd64 Packages [3,448 kB]\n",
            "Get:14 https://r2u.stat.illinois.edu/ubuntu jammy/main all Packages [8,566 kB]\n",
            "Get:15 https://r2u.stat.illinois.edu/ubuntu jammy/main amd64 Packages [2,630 kB]\n",
            "Get:16 http://archive.ubuntu.com/ubuntu jammy-updates/universe amd64 Packages [1,517 kB]\n",
            "Get:17 http://archive.ubuntu.com/ubuntu jammy-updates/restricted amd64 Packages [3,614 kB]\n",
            "Get:18 http://archive.ubuntu.com/ubuntu jammy-updates/main amd64 Packages [2,830 kB]\n",
            "Get:19 http://archive.ubuntu.com/ubuntu jammy-backports/universe amd64 Packages [33.8 kB]\n",
            "Get:20 http://archive.ubuntu.com/ubuntu jammy-backports/main amd64 Packages [81.4 kB]\n",
            "Fetched 26.9 MB in 3s (8,854 kB/s)\n",
            "Reading package lists... Done\n",
            "W: Skipping acquire of configured file 'main/source/Sources' as repository 'https://r2u.stat.illinois.edu/ubuntu jammy InRelease' does not seem to provide it (sources.list entry misspelt?)\n",
            "Reading package lists... Done\n",
            "Building dependency tree... Done\n",
            "Reading state information... Done\n",
            "The following additional packages will be installed:\n",
            "  apparmor chromium-browser libfuse3-3 liblzo2-2 libudev1 snapd squashfs-tools systemd-hwe-hwdb\n",
            "  udev\n",
            "Suggested packages:\n",
            "  apparmor-profiles-extra apparmor-utils fuse3 zenity | kdialog\n",
            "The following NEW packages will be installed:\n",
            "  apparmor chromium-browser chromium-chromedriver libfuse3-3 liblzo2-2 snapd squashfs-tools\n",
            "  systemd-hwe-hwdb udev\n",
            "The following packages will be upgraded:\n",
            "  libudev1\n",
            "1 upgraded, 9 newly installed, 0 to remove and 49 not upgraded.\n",
            "Need to get 30.2 MB of archives.\n",
            "After this operation, 123 MB of additional disk space will be used.\n",
            "Get:1 http://archive.ubuntu.com/ubuntu jammy-updates/main amd64 apparmor amd64 3.0.4-2ubuntu2.4 [598 kB]\n",
            "Get:2 http://archive.ubuntu.com/ubuntu jammy/main amd64 liblzo2-2 amd64 2.10-2build3 [53.7 kB]\n",
            "Get:3 http://archive.ubuntu.com/ubuntu jammy/main amd64 squashfs-tools amd64 1:4.5-3build1 [159 kB]\n",
            "Get:4 http://archive.ubuntu.com/ubuntu jammy-updates/main amd64 libudev1 amd64 249.11-0ubuntu3.12 [78.2 kB]\n",
            "Get:5 http://archive.ubuntu.com/ubuntu jammy-updates/main amd64 udev amd64 249.11-0ubuntu3.12 [1,557 kB]\n",
            "Get:6 http://archive.ubuntu.com/ubuntu jammy/main amd64 libfuse3-3 amd64 3.10.5-1build1 [81.2 kB]\n",
            "Get:7 http://archive.ubuntu.com/ubuntu jammy-updates/main amd64 snapd amd64 2.66.1+22.04 [27.6 MB]\n",
            "Get:8 http://archive.ubuntu.com/ubuntu jammy-updates/universe amd64 chromium-browser amd64 1:85.0.4183.83-0ubuntu2.22.04.1 [49.2 kB]\n",
            "Get:9 http://archive.ubuntu.com/ubuntu jammy-updates/universe amd64 chromium-chromedriver amd64 1:85.0.4183.83-0ubuntu2.22.04.1 [2,308 B]\n",
            "Get:10 http://archive.ubuntu.com/ubuntu jammy-updates/main amd64 systemd-hwe-hwdb all 249.11.5 [3,228 B]\n",
            "Fetched 30.2 MB in 2s (17.4 MB/s)\n",
            "Preconfiguring packages ...\n",
            "Selecting previously unselected package apparmor.\n",
            "(Reading database ... 123634 files and directories currently installed.)\n",
            "Preparing to unpack .../apparmor_3.0.4-2ubuntu2.4_amd64.deb ...\n",
            "Unpacking apparmor (3.0.4-2ubuntu2.4) ...\n",
            "Selecting previously unselected package liblzo2-2:amd64.\n",
            "Preparing to unpack .../liblzo2-2_2.10-2build3_amd64.deb ...\n",
            "Unpacking liblzo2-2:amd64 (2.10-2build3) ...\n",
            "Selecting previously unselected package squashfs-tools.\n",
            "Preparing to unpack .../squashfs-tools_1%3a4.5-3build1_amd64.deb ...\n",
            "Unpacking squashfs-tools (1:4.5-3build1) ...\n",
            "Preparing to unpack .../libudev1_249.11-0ubuntu3.12_amd64.deb ...\n",
            "Unpacking libudev1:amd64 (249.11-0ubuntu3.12) over (249.11-0ubuntu3.10) ...\n",
            "Setting up libudev1:amd64 (249.11-0ubuntu3.12) ...\n",
            "Selecting previously unselected package udev.\n",
            "(Reading database ... 123842 files and directories currently installed.)\n",
            "Preparing to unpack .../udev_249.11-0ubuntu3.12_amd64.deb ...\n",
            "Unpacking udev (249.11-0ubuntu3.12) ...\n",
            "Selecting previously unselected package libfuse3-3:amd64.\n",
            "Preparing to unpack .../libfuse3-3_3.10.5-1build1_amd64.deb ...\n",
            "Unpacking libfuse3-3:amd64 (3.10.5-1build1) ...\n",
            "Selecting previously unselected package snapd.\n",
            "Preparing to unpack .../snapd_2.66.1+22.04_amd64.deb ...\n",
            "Unpacking snapd (2.66.1+22.04) ...\n",
            "Setting up apparmor (3.0.4-2ubuntu2.4) ...\n",
            "Created symlink /etc/systemd/system/sysinit.target.wants/apparmor.service → /lib/systemd/system/apparmor.service.\n",
            "Setting up liblzo2-2:amd64 (2.10-2build3) ...\n",
            "Setting up squashfs-tools (1:4.5-3build1) ...\n",
            "Setting up udev (249.11-0ubuntu3.12) ...\n",
            "invoke-rc.d: could not determine current runlevel\n",
            "invoke-rc.d: policy-rc.d denied execution of start.\n",
            "Setting up libfuse3-3:amd64 (3.10.5-1build1) ...\n",
            "Setting up snapd (2.66.1+22.04) ...\n",
            "Created symlink /etc/systemd/system/multi-user.target.wants/snapd.apparmor.service → /lib/systemd/system/snapd.apparmor.service.\n",
            "Created symlink /etc/systemd/system/multi-user.target.wants/snapd.autoimport.service → /lib/systemd/system/snapd.autoimport.service.\n",
            "Created symlink /etc/systemd/system/multi-user.target.wants/snapd.core-fixup.service → /lib/systemd/system/snapd.core-fixup.service.\n",
            "Created symlink /etc/systemd/system/multi-user.target.wants/snapd.recovery-chooser-trigger.service → /lib/systemd/system/snapd.recovery-chooser-trigger.service.\n",
            "Created symlink /etc/systemd/system/multi-user.target.wants/snapd.seeded.service → /lib/systemd/system/snapd.seeded.service.\n",
            "Created symlink /etc/systemd/system/cloud-final.service.wants/snapd.seeded.service → /lib/systemd/system/snapd.seeded.service.\n",
            "Unit /lib/systemd/system/snapd.seeded.service is added as a dependency to a non-existent unit cloud-final.service.\n",
            "Created symlink /etc/systemd/system/multi-user.target.wants/snapd.service → /lib/systemd/system/snapd.service.\n",
            "Created symlink /etc/systemd/system/timers.target.wants/snapd.snap-repair.timer → /lib/systemd/system/snapd.snap-repair.timer.\n",
            "Created symlink /etc/systemd/system/sockets.target.wants/snapd.socket → /lib/systemd/system/snapd.socket.\n",
            "Created symlink /etc/systemd/system/final.target.wants/snapd.system-shutdown.service → /lib/systemd/system/snapd.system-shutdown.service.\n",
            "Selecting previously unselected package chromium-browser.\n",
            "(Reading database ... 124071 files and directories currently installed.)\n",
            "Preparing to unpack .../chromium-browser_1%3a85.0.4183.83-0ubuntu2.22.04.1_amd64.deb ...\n",
            "=> Installing the chromium snap\n",
            "==> Checking connectivity with the snap store\n",
            "===> System doesn't have a working snapd, skipping\n",
            "Unpacking chromium-browser (1:85.0.4183.83-0ubuntu2.22.04.1) ...\n",
            "Selecting previously unselected package chromium-chromedriver.\n",
            "Preparing to unpack .../chromium-chromedriver_1%3a85.0.4183.83-0ubuntu2.22.04.1_amd64.deb ...\n",
            "Unpacking chromium-chromedriver (1:85.0.4183.83-0ubuntu2.22.04.1) ...\n",
            "Selecting previously unselected package systemd-hwe-hwdb.\n",
            "Preparing to unpack .../systemd-hwe-hwdb_249.11.5_all.deb ...\n",
            "Unpacking systemd-hwe-hwdb (249.11.5) ...\n",
            "Setting up systemd-hwe-hwdb (249.11.5) ...\n",
            "Setting up chromium-browser (1:85.0.4183.83-0ubuntu2.22.04.1) ...\n",
            "update-alternatives: using /usr/bin/chromium-browser to provide /usr/bin/x-www-browser (x-www-browser) in auto mode\n",
            "update-alternatives: using /usr/bin/chromium-browser to provide /usr/bin/gnome-www-browser (gnome-www-browser) in auto mode\n",
            "Setting up chromium-chromedriver (1:85.0.4183.83-0ubuntu2.22.04.1) ...\n",
            "Processing triggers for udev (249.11-0ubuntu3.12) ...\n",
            "Processing triggers for hicolor-icon-theme (0.17-2) ...\n",
            "Processing triggers for libc-bin (2.35-0ubuntu3.4) ...\n",
            "/sbin/ldconfig.real: /usr/local/lib/libtcm_debug.so.1 is not a symbolic link\n",
            "\n",
            "/sbin/ldconfig.real: /usr/local/lib/libur_loader.so.0 is not a symbolic link\n",
            "\n",
            "/sbin/ldconfig.real: /usr/local/lib/libhwloc.so.15 is not a symbolic link\n",
            "\n",
            "/sbin/ldconfig.real: /usr/local/lib/libumf.so.0 is not a symbolic link\n",
            "\n",
            "/sbin/ldconfig.real: /usr/local/lib/libtbbmalloc_proxy.so.2 is not a symbolic link\n",
            "\n",
            "/sbin/ldconfig.real: /usr/local/lib/libtbbbind_2_0.so.3 is not a symbolic link\n",
            "\n",
            "/sbin/ldconfig.real: /usr/local/lib/libtbbbind.so.3 is not a symbolic link\n",
            "\n",
            "/sbin/ldconfig.real: /usr/local/lib/libtbbmalloc.so.2 is not a symbolic link\n",
            "\n",
            "/sbin/ldconfig.real: /usr/local/lib/libtbb.so.12 is not a symbolic link\n",
            "\n",
            "/sbin/ldconfig.real: /usr/local/lib/libtbbbind_2_5.so.3 is not a symbolic link\n",
            "\n",
            "/sbin/ldconfig.real: /usr/local/lib/libtcm.so.1 is not a symbolic link\n",
            "\n",
            "/sbin/ldconfig.real: /usr/local/lib/libur_adapter_level_zero.so.0 is not a symbolic link\n",
            "\n",
            "/sbin/ldconfig.real: /usr/local/lib/libur_adapter_opencl.so.0 is not a symbolic link\n",
            "\n",
            "Processing triggers for man-db (2.10.2-1) ...\n",
            "Processing triggers for dbus (1.12.20-2ubuntu4.1) ...\n",
            "cp: '/usr/lib/chromium-browser/chromedriver' and '/usr/bin/chromedriver' are the same file\n",
            "Collecting selenium\n",
            "  Downloading selenium-4.27.1-py3-none-any.whl.metadata (7.1 kB)\n",
            "Requirement already satisfied: urllib3<3,>=1.26 in /usr/local/lib/python3.10/dist-packages (from urllib3[socks]<3,>=1.26->selenium) (2.2.3)\n",
            "Collecting trio~=0.17 (from selenium)\n",
            "  Downloading trio-0.27.0-py3-none-any.whl.metadata (8.6 kB)\n",
            "Collecting trio-websocket~=0.9 (from selenium)\n",
            "  Downloading trio_websocket-0.11.1-py3-none-any.whl.metadata (4.7 kB)\n",
            "Requirement already satisfied: certifi>=2021.10.8 in /usr/local/lib/python3.10/dist-packages (from selenium) (2024.12.14)\n",
            "Requirement already satisfied: typing_extensions~=4.9 in /usr/local/lib/python3.10/dist-packages (from selenium) (4.12.2)\n",
            "Requirement already satisfied: websocket-client~=1.8 in /usr/local/lib/python3.10/dist-packages (from selenium) (1.8.0)\n",
            "Requirement already satisfied: attrs>=23.2.0 in /usr/local/lib/python3.10/dist-packages (from trio~=0.17->selenium) (24.3.0)\n",
            "Collecting sortedcontainers (from trio~=0.17->selenium)\n",
            "  Downloading sortedcontainers-2.4.0-py2.py3-none-any.whl.metadata (10 kB)\n",
            "Requirement already satisfied: idna in /usr/local/lib/python3.10/dist-packages (from trio~=0.17->selenium) (3.10)\n",
            "Collecting outcome (from trio~=0.17->selenium)\n",
            "  Downloading outcome-1.3.0.post0-py2.py3-none-any.whl.metadata (2.6 kB)\n",
            "Requirement already satisfied: sniffio>=1.3.0 in /usr/local/lib/python3.10/dist-packages (from trio~=0.17->selenium) (1.3.1)\n",
            "Requirement already satisfied: exceptiongroup in /usr/local/lib/python3.10/dist-packages (from trio~=0.17->selenium) (1.2.2)\n",
            "Collecting wsproto>=0.14 (from trio-websocket~=0.9->selenium)\n",
            "  Downloading wsproto-1.2.0-py3-none-any.whl.metadata (5.6 kB)\n",
            "Requirement already satisfied: pysocks!=1.5.7,<2.0,>=1.5.6 in /usr/local/lib/python3.10/dist-packages (from urllib3[socks]<3,>=1.26->selenium) (1.7.1)\n",
            "Requirement already satisfied: h11<1,>=0.9.0 in /usr/local/lib/python3.10/dist-packages (from wsproto>=0.14->trio-websocket~=0.9->selenium) (0.14.0)\n",
            "Downloading selenium-4.27.1-py3-none-any.whl (9.7 MB)\n",
            "\u001b[2K   \u001b[90m━━━━━━━━━━━━━━━━━━━━━━━━━━━━━━━━━━━━━━━━\u001b[0m \u001b[32m9.7/9.7 MB\u001b[0m \u001b[31m63.1 MB/s\u001b[0m eta \u001b[36m0:00:00\u001b[0m\n",
            "\u001b[?25hDownloading trio-0.27.0-py3-none-any.whl (481 kB)\n",
            "\u001b[2K   \u001b[90m━━━━━━━━━━━━━━━━━━━━━━━━━━━━━━━━━━━━━━━━\u001b[0m \u001b[32m481.7/481.7 kB\u001b[0m \u001b[31m32.0 MB/s\u001b[0m eta \u001b[36m0:00:00\u001b[0m\n",
            "\u001b[?25hDownloading trio_websocket-0.11.1-py3-none-any.whl (17 kB)\n",
            "Downloading wsproto-1.2.0-py3-none-any.whl (24 kB)\n",
            "Downloading outcome-1.3.0.post0-py2.py3-none-any.whl (10 kB)\n",
            "Downloading sortedcontainers-2.4.0-py2.py3-none-any.whl (29 kB)\n",
            "Installing collected packages: sortedcontainers, wsproto, outcome, trio, trio-websocket, selenium\n",
            "Successfully installed outcome-1.3.0.post0 selenium-4.27.1 sortedcontainers-2.4.0 trio-0.27.0 trio-websocket-0.11.1 wsproto-1.2.0\n"
          ]
        }
      ],
      "source": [
        "##網路爬蟲螢幕截圖\n",
        "!apt-get update\n",
        "!apt install chromium-chromedriver\n",
        "!cp /usr/lib/chromium-browser/chromedriver /usr/bin\n",
        "!pip install selenium\n",
        "\n"
      ]
    },
    {
      "cell_type": "code",
      "execution_count": null,
      "metadata": {
        "id": "LIFBevQuoFWV"
      },
      "outputs": [],
      "source": [
        "from selenium import webdriver\n",
        "from selenium import webdriver.options\n",
        "options=options()\n",
        "options.chrome.executable_path=\"/content/chromedriver.exe\"\n",
        "drive=webdriver.chrome(options=options)\n",
        "drive.get(\"https:google.com/\")\n",
        "drive.save(\"goole.png\")\n",
        "drive.close()"
      ]
    }
  ],
  "metadata": {
    "colab": {
      "provenance": [],
      "authorship_tag": "ABX9TyNWUVXBzmWWdVJmIV5y2nBw",
      "include_colab_link": true
    },
    "kernelspec": {
      "display_name": "Python 3",
      "name": "python3"
    },
    "language_info": {
      "name": "python"
    }
  },
  "nbformat": 4,
  "nbformat_minor": 0
}